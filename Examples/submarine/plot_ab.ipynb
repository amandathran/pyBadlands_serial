{
 "cells": [
  {
   "cell_type": "code",
   "execution_count": 15,
   "metadata": {
    "collapsed": true
   },
   "outputs": [],
   "source": [
    "import h5py\n",
    "import matplotlib.pyplot as plt\n",
    "import numpy as np\n",
    "folder = '/slope/h5/'"
   ]
  },
  {
   "cell_type": "markdown",
   "metadata": {},
   "source": [
    "Here we extract the discharge and flow density for each point of the grid and at given timesteps"
   ]
  },
  {
   "cell_type": "code",
   "execution_count": 131,
   "metadata": {
    "collapsed": true
   },
   "outputs": [],
   "source": [
    "def extract_disch(fold,init,end,increment):\n",
    "    xx=[]\n",
    "    yy=[]\n",
    "    for i in range (init,end,increment):\n",
    "        filename=fold+'flow.time'+str(i)+'.p0.hdf5'\n",
    "        f = h5py.File(filename, 'r')\n",
    "        dset1 = f['discharge']\n",
    "        dset2 = f['flowdensity']\n",
    "        n=-1\n",
    "        for element in dset1:\n",
    "            n=n+1\n",
    "            k=dset2[n][0]\n",
    "            if element[0]>0.5:\n",
    "                if k>1.0001:\n",
    "                    xx.append(element[0])\n",
    "                    yy.append(k)\n",
    "    return (xx,yy)"
   ]
  },
  {
   "cell_type": "markdown",
   "metadata": {},
   "source": [
    "Take the decimal log and make linear regression to determine a and b parameters\n",
    "such as Sediment_concentration (kg/m3) = a. Discharge (m3/s)^b\n",
    "See Syvitski et al., 2000,Estimating fluvial sediment transport: The rating parameters; Water Ressources Research"
   ]
  },
  {
   "cell_type": "code",
   "execution_count": null,
   "metadata": {
    "collapsed": true
   },
   "outputs": [],
   "source": [
    "(disch,Cs)=extract_disch(folder,20,40,2)\n",
    "Logdisch=np.log10(np.array(disch))\n",
    "LogCs=np.log10((np.array(Cs)-1)*1000)"
   ]
  },
  {
   "cell_type": "code",
   "execution_count": 132,
   "metadata": {},
   "outputs": [
    {
     "name": "stdout",
     "output_type": "stream",
     "text": [
      "1.49445511792 -0.606243893658\n"
     ]
    }
   ],
   "source": [
    "def linear_regression(x,y):\n",
    "    sumx=np.sum(x)\n",
    "    sumy=np.sum(y)\n",
    "    meanx=np.mean(x)\n",
    "    meany=np.mean(y)\n",
    "    beta_0_1=0\n",
    "    beta_0_2=0\n",
    "    for i in range (0,len(y)):\n",
    "        beta_0_1=beta_0_1+(x[i]-meanx)*(y[i]-meany)\n",
    "        beta_0_2=beta_0_2+(x[i]-meanx)**2\n",
    "    beta_0=beta_0_1/beta_0_2\n",
    "    beta_1=meany-beta_0*meanx\n",
    "    return (beta_0,beta_1)"
   ]
  },
  {
   "cell_type": "code",
   "execution_count": 141,
   "metadata": {},
   "outputs": [
    {
     "data": {
      "image/png": "[encoded data removed]",
      "text/plain": [
       "<matplotlib.figure.Figure at 0x7fb6db90de10>"
      ]
     },
     "metadata": {},
     "output_type": "display_data"
    }
   ],
   "source": [
    "(b0,b1) = linear_regression(Logdisch,LogCs)\n",
    "print (b0,b1)\n",
    "xmod=np.array([-0.2,0.5,1.2])\n",
    "ymod=b1+b0*xmod\n",
    "plt.plot(Logdisch,LogCs,'ro')\n",
    "plt.plot(xmod,ymod,'k')\n",
    "plt.xlabel ('Log10 Discharge in m3/s')\n",
    "plt.ylabel ('Log10 Sediment load in kg/m3')\n",
    "plt.show()"
   ]
  }
 ],
 "metadata": {
  "kernelspec": {
   "display_name": "Python 2",
   "language": "python",
   "name": "python2"
  },
  "language_info": {
   "codemirror_mode": {
    "name": "ipython",
    "version": 2
   },
   "file_extension": ".py",
   "mimetype": "text/x-python",
   "name": "python",
   "nbconvert_exporter": "python",
   "pygments_lexer": "ipython2",
   "version": "2.7.14"
  }
 },
 "nbformat": 4,
 "nbformat_minor": 2
}
